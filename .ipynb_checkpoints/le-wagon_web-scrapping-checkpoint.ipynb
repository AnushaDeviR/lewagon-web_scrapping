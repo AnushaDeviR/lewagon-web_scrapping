{
 "cells": [
  {
   "cell_type": "code",
   "execution_count": 1,
   "id": "683c1c27",
   "metadata": {},
   "outputs": [],
   "source": [
    "import requests #makes html requests\n",
    "from bs4 import BeautifulSoup"
   ]
  },
  {
   "cell_type": "code",
   "execution_count": null,
   "id": "b93aaa94",
   "metadata": {},
   "outputs": [],
   "source": [
    "url = 'http://books.toscrape.com/'\n",
    "res = requests.get(url)\n",
    "html = res.content\n",
    "scraped = BeautifulSoap(html, 'html.parser')"
   ]
  },
  {
   "cell_type": "code",
   "execution_count": null,
   "id": "f253d0af",
   "metadata": {},
   "outputs": [],
   "source": []
  }
 ],
 "metadata": {
  "kernelspec": {
   "display_name": "Python 3 (ipykernel)",
   "language": "python",
   "name": "python3"
  },
  "language_info": {
   "codemirror_mode": {
    "name": "ipython",
    "version": 3
   },
   "file_extension": ".py",
   "mimetype": "text/x-python",
   "name": "python",
   "nbconvert_exporter": "python",
   "pygments_lexer": "ipython3",
   "version": "3.9.13"
  }
 },
 "nbformat": 4,
 "nbformat_minor": 5
}
